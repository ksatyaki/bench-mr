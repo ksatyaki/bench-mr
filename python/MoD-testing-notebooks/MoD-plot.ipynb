{
 "cells": [
  {
   "cell_type": "code",
   "execution_count": null,
   "id": "7664017e-83ba-4e67-b883-78d10730a71c",
   "metadata": {},
   "outputs": [],
   "source": [
    "%load_ext autoreload\n",
    "%autoreload 2\n",
    "from mpb import MPB, MultipleMPB\n",
    "import matplotlib as mpl\n",
    "mpl.rcParams['mathtext.fontset'] = 'cm'\n",
    "mpl.rcParams['pdf.fonttype'] = 42\n",
    "import matplotlib.pyplot as plt\n",
    "%config InlineBackend.figure_format='retina'\n",
    "from copy import deepcopy\n",
    "import math\n",
    "\n",
    "from plot_convergence import plot_convergence\n",
    "json_file=\"mod-tests/mod-tests-combined.json\"\n",
    "plot_convergence(json_file=json_file, metrics=\"total_cost,path_length,normalized_curvature\")"
   ]
  },
  {
   "cell_type": "code",
   "execution_count": null,
   "id": "219a7796-35dd-4862-a9be-ffbff3693e7d",
   "metadata": {},
   "outputs": [],
   "source": [
    "from plot_trajectory_convergence import visualize_traj_convergence\n",
    "visualize_traj_convergence(json_file=json_file)"
   ]
  },
  {
   "cell_type": "code",
   "execution_count": null,
   "id": "c312b9a5-03a1-4cdb-8dd6-1819e1aa810b",
   "metadata": {},
   "outputs": [],
   "source": []
  }
 ],
 "metadata": {
  "kernelspec": {
   "display_name": "Python 3 (ipykernel)",
   "language": "python",
   "name": "python3"
  },
  "language_info": {
   "codemirror_mode": {
    "name": "ipython",
    "version": 3
   },
   "file_extension": ".py",
   "mimetype": "text/x-python",
   "name": "python",
   "nbconvert_exporter": "python",
   "pygments_lexer": "ipython3",
   "version": "3.9.12"
  }
 },
 "nbformat": 4,
 "nbformat_minor": 5
}
